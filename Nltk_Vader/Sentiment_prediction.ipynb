{
 "cells": [
  {
   "cell_type": "code",
   "execution_count": 1,
   "metadata": {},
   "outputs": [
    {
     "name": "stderr",
     "output_type": "stream",
     "text": [
      "[nltk_data] Downloading package vader_lexicon to\n",
      "[nltk_data]     C:\\Users\\Hp\\AppData\\Roaming\\nltk_data...\n",
      "[nltk_data]   Package vader_lexicon is already up-to-date!\n"
     ]
    }
   ],
   "source": [
    "import pandas as pd\n",
    "import nltk \n",
    "from nltk.sentiment.vader import SentimentIntensityAnalyzer\n",
    "nltk.download('vader_lexicon')\n",
    "import joblib"
   ]
  },
  {
   "cell_type": "code",
   "execution_count": 2,
   "metadata": {},
   "outputs": [],
   "source": [
    "sia=SentimentIntensityAnalyzer()"
   ]
  },
  {
   "cell_type": "code",
   "execution_count": 3,
   "metadata": {},
   "outputs": [
    {
     "data": {
      "text/html": [
       "<div>\n",
       "<style scoped>\n",
       "    .dataframe tbody tr th:only-of-type {\n",
       "        vertical-align: middle;\n",
       "    }\n",
       "\n",
       "    .dataframe tbody tr th {\n",
       "        vertical-align: top;\n",
       "    }\n",
       "\n",
       "    .dataframe thead th {\n",
       "        text-align: right;\n",
       "    }\n",
       "</style>\n",
       "<table border=\"1\" class=\"dataframe\">\n",
       "  <thead>\n",
       "    <tr style=\"text-align: right;\">\n",
       "      <th></th>\n",
       "      <th>authorMeta/fans</th>\n",
       "      <th>authorMeta/heart</th>\n",
       "      <th>authorMeta/name</th>\n",
       "      <th>authorMeta/signature</th>\n",
       "      <th>authorMeta/verified</th>\n",
       "      <th>authorMeta/video</th>\n",
       "      <th>commentCount</th>\n",
       "      <th>diggCount</th>\n",
       "      <th>downloaded</th>\n",
       "      <th>hashtags/0/name</th>\n",
       "      <th>...</th>\n",
       "      <th>searchHashtag/name</th>\n",
       "      <th>searchHashtag/views</th>\n",
       "      <th>shareCount</th>\n",
       "      <th>text</th>\n",
       "      <th>videoMeta/duration</th>\n",
       "      <th>videoMeta/height</th>\n",
       "      <th>videoMeta/width</th>\n",
       "      <th>mention</th>\n",
       "      <th>bio</th>\n",
       "      <th>orientation</th>\n",
       "    </tr>\n",
       "  </thead>\n",
       "  <tbody>\n",
       "    <tr>\n",
       "      <th>0</th>\n",
       "      <td>13200000</td>\n",
       "      <td>150400000</td>\n",
       "      <td>miso_ara</td>\n",
       "      <td>soonent@soon-ent.co.kr\\n.\\n Miso Ara IG</td>\n",
       "      <td>True</td>\n",
       "      <td>303</td>\n",
       "      <td>66000</td>\n",
       "      <td>19300000</td>\n",
       "      <td>False</td>\n",
       "      <td>woah</td>\n",
       "      <td>...</td>\n",
       "      <td>meme</td>\n",
       "      <td>556B</td>\n",
       "      <td>377700</td>\n",
       "      <td>Ara Woah  #woah  #woahchallenge  #foryou  #fyp...</td>\n",
       "      <td>17</td>\n",
       "      <td>1280</td>\n",
       "      <td>720</td>\n",
       "      <td>0</td>\n",
       "      <td>1</td>\n",
       "      <td>Portrait</td>\n",
       "    </tr>\n",
       "    <tr>\n",
       "      <th>1</th>\n",
       "      <td>1300000</td>\n",
       "      <td>35100000</td>\n",
       "      <td>crinka11</td>\n",
       "      <td>insta: chrisrinker73</td>\n",
       "      <td>False</td>\n",
       "      <td>518</td>\n",
       "      <td>154100</td>\n",
       "      <td>15400000</td>\n",
       "      <td>False</td>\n",
       "      <td>fyp</td>\n",
       "      <td>...</td>\n",
       "      <td>meme</td>\n",
       "      <td>556B</td>\n",
       "      <td>205400</td>\n",
       "      <td>#fyp #meme #funny #meme #vine</td>\n",
       "      <td>11</td>\n",
       "      <td>1024</td>\n",
       "      <td>576</td>\n",
       "      <td>0</td>\n",
       "      <td>1</td>\n",
       "      <td>Portrait</td>\n",
       "    </tr>\n",
       "    <tr>\n",
       "      <th>2</th>\n",
       "      <td>696800</td>\n",
       "      <td>15900000</td>\n",
       "      <td>iampets_com</td>\n",
       "      <td>Pet supplies, toys online store. All products ...</td>\n",
       "      <td>False</td>\n",
       "      <td>90</td>\n",
       "      <td>55300</td>\n",
       "      <td>13900000</td>\n",
       "      <td>False</td>\n",
       "      <td>funny</td>\n",
       "      <td>...</td>\n",
       "      <td>meme</td>\n",
       "      <td>556B</td>\n",
       "      <td>323000</td>\n",
       "      <td>The end #funny #funnyvideos #animals #haha #me...</td>\n",
       "      <td>25</td>\n",
       "      <td>1024</td>\n",
       "      <td>576</td>\n",
       "      <td>0</td>\n",
       "      <td>1</td>\n",
       "      <td>Portrait</td>\n",
       "    </tr>\n",
       "    <tr>\n",
       "      <th>3</th>\n",
       "      <td>510200</td>\n",
       "      <td>32100000</td>\n",
       "      <td>dailydosevideos_</td>\n",
       "      <td>Daily dose of videos/memes \\nsupport the page ...</td>\n",
       "      <td>False</td>\n",
       "      <td>84</td>\n",
       "      <td>70600</td>\n",
       "      <td>13100000</td>\n",
       "      <td>False</td>\n",
       "      <td>meme</td>\n",
       "      <td>...</td>\n",
       "      <td>meme</td>\n",
       "      <td>556B</td>\n",
       "      <td>133400</td>\n",
       "      <td>Try not to laugh  hard #meme #trynottolaughtik...</td>\n",
       "      <td>62</td>\n",
       "      <td>1024</td>\n",
       "      <td>576</td>\n",
       "      <td>0</td>\n",
       "      <td>1</td>\n",
       "      <td>Portrait</td>\n",
       "    </tr>\n",
       "  </tbody>\n",
       "</table>\n",
       "<p>4 rows × 26 columns</p>\n",
       "</div>"
      ],
      "text/plain": [
       "   authorMeta/fans  authorMeta/heart   authorMeta/name  \\\n",
       "0         13200000         150400000          miso_ara   \n",
       "1          1300000          35100000          crinka11   \n",
       "2           696800          15900000       iampets_com   \n",
       "3           510200          32100000  dailydosevideos_   \n",
       "\n",
       "                                authorMeta/signature  authorMeta/verified  \\\n",
       "0            soonent@soon-ent.co.kr\\n.\\n Miso Ara IG                 True   \n",
       "1                               insta: chrisrinker73                False   \n",
       "2  Pet supplies, toys online store. All products ...                False   \n",
       "3  Daily dose of videos/memes \\nsupport the page ...                False   \n",
       "\n",
       "   authorMeta/video  commentCount  diggCount  downloaded hashtags/0/name  ...  \\\n",
       "0               303         66000   19300000       False            woah  ...   \n",
       "1               518        154100   15400000       False             fyp  ...   \n",
       "2                90         55300   13900000       False           funny  ...   \n",
       "3                84         70600   13100000       False            meme  ...   \n",
       "\n",
       "  searchHashtag/name searchHashtag/views shareCount  \\\n",
       "0               meme                556B     377700   \n",
       "1               meme                556B     205400   \n",
       "2               meme                556B     323000   \n",
       "3               meme                556B     133400   \n",
       "\n",
       "                                                text  videoMeta/duration  \\\n",
       "0  Ara Woah  #woah  #woahchallenge  #foryou  #fyp...                  17   \n",
       "1                      #fyp #meme #funny #meme #vine                  11   \n",
       "2  The end #funny #funnyvideos #animals #haha #me...                  25   \n",
       "3  Try not to laugh  hard #meme #trynottolaughtik...                  62   \n",
       "\n",
       "   videoMeta/height videoMeta/width mention  bio orientation  \n",
       "0              1280             720       0    1    Portrait  \n",
       "1              1024             576       0    1    Portrait  \n",
       "2              1024             576       0    1    Portrait  \n",
       "3              1024             576       0    1    Portrait  \n",
       "\n",
       "[4 rows x 26 columns]"
      ]
     },
     "execution_count": 3,
     "metadata": {},
     "output_type": "execute_result"
    }
   ],
   "source": [
    "tiktok_df=pd.read_excel(\"C:/Users/Hp/Documents/Projects/Social Media Sentiment Dashboard/Data cleaning/filtered_data.xlsx\")\n",
    "tiktok_df.head(4)\n"
   ]
  },
  {
   "cell_type": "code",
   "execution_count": 4,
   "metadata": {},
   "outputs": [],
   "source": [
    "import re\n",
    "def clean_text(text):\n",
    "    if isinstance(text,str):\n",
    "        return re.sub(r'[^A-Za-z\\s]','',text)\n",
    "    else:\n",
    "        return \"\"\n",
    "tiktok_df['cleaned_bio']=tiktok_df['authorMeta/signature'].apply(clean_text)\n",
    "tiktok_df['cleaned_caption']=tiktok_df['text'].apply(clean_text)"
   ]
  },
  {
   "cell_type": "code",
   "execution_count": 5,
   "metadata": {},
   "outputs": [],
   "source": [
    "def get_sentiment(text):\n",
    "    if isinstance(text,str):\n",
    "        return sia.polarity_scores(text)['compound']\n",
    "    return None\n"
   ]
  },
  {
   "cell_type": "code",
   "execution_count": 6,
   "metadata": {},
   "outputs": [],
   "source": [
    "tiktok_df['sentiment_score']=tiktok_df['text'].apply(get_sentiment)\n"
   ]
  },
  {
   "cell_type": "code",
   "execution_count": 7,
   "metadata": {},
   "outputs": [],
   "source": [
    "def classify_sentiment(score):\n",
    "    if score >= 0.05:\n",
    "        return \"Positive\"\n",
    "    elif score <= -0.05:\n",
    "        return\"Negative\"\n",
    "    else:\n",
    "        return \"Neutral\"\n",
    "    \n"
   ]
  },
  {
   "cell_type": "code",
   "execution_count": 8,
   "metadata": {},
   "outputs": [],
   "source": [
    "tiktok_df['sentiment_label']=tiktok_df['sentiment_score'].apply(classify_sentiment)"
   ]
  },
  {
   "cell_type": "code",
   "execution_count": 9,
   "metadata": {},
   "outputs": [],
   "source": [
    "tiktok_df.to_csv('Sentiment_results.csv',index=False)\n",
    "\n"
   ]
  },
  {
   "cell_type": "code",
   "execution_count": 15,
   "metadata": {},
   "outputs": [
    {
     "data": {
      "text/plain": [
       "['C:/Users/Hp/Documents/Projects/Social Media Sentiment Dashboard/output_models/sentiment_model.sav']"
      ]
     },
     "execution_count": 15,
     "metadata": {},
     "output_type": "execute_result"
    }
   ],
   "source": [
    "joblib.dump(sia,\"C:/Users/Hp/Documents/Projects/Social Media Sentiment Dashboard/output_models/sentiment_model.sav\") # vader doesnt need trainig but still added"
   ]
  },
  {
   "cell_type": "code",
   "execution_count": 11,
   "metadata": {},
   "outputs": [
    {
     "name": "stdout",
     "output_type": "stream",
     "text": [
      "sentiment Distribution:\n",
      " sentiment_label\n",
      "Neutral     820\n",
      "Positive    264\n",
      "Negative    116\n",
      "Name: count, dtype: int64\n"
     ]
    }
   ],
   "source": [
    "sentiment_counts = tiktok_df['sentiment_label'].value_counts()\n",
    "print(\"sentiment Distribution:\\n\",sentiment_counts)"
   ]
  }
 ],
 "metadata": {
  "kernelspec": {
   "display_name": "Python 3",
   "language": "python",
   "name": "python3"
  },
  "language_info": {
   "codemirror_mode": {
    "name": "ipython",
    "version": 3
   },
   "file_extension": ".py",
   "mimetype": "text/x-python",
   "name": "python",
   "nbconvert_exporter": "python",
   "pygments_lexer": "ipython3",
   "version": "3.12.0"
  }
 },
 "nbformat": 4,
 "nbformat_minor": 2
}
